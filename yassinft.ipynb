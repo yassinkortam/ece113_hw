{
 "cells": [
  {
   "cell_type": "code",
   "execution_count": 659,
   "metadata": {},
   "outputs": [],
   "source": [
    "# Copyright 2023 YASSIN KORTAM\n",
    "\n",
    "# Permission is hereby granted, free of charge, to any person obtaining a copy of \n",
    "# this software and associated documentation files (the “Software”), to deal in the \n",
    "# Software without restriction, including without limitation the rights to use, copy,\n",
    "# modify, merge, publish, distribute, sublicense, and/or sell copies of the Software,\n",
    "# and to permit persons to whom the Software is furnished to do so.\n",
    "\n",
    "# THE SOFTWARE IS PROVIDED “AS IS”, WITHOUT WARRANTY OF ANY KIND, \n",
    "# EXPRESS OR IMPLIED, INCLUDING BUT NOT LIMITED TO THE WARRANTIES OF \n",
    "# MERCHANTABILITY, FITNESS FOR A PARTICULAR PURPOSE AND NONINFRINGEMENT. \n",
    "# IN NO EVENT SHALL THE AUTHORS OR COPYRIGHT HOLDERS BE LIABLE FOR ANY CLAIM, \n",
    "# DAMAGES OR OTHER LIABILITY, WHETHER IN AN ACTION OF CONTRACT, TORT OR OTHERWISE, ARISING FROM, \n",
    "# OUT OF OR IN CONNECTION WITH THE SOFTWARE OR THE USE OR OTHER DEALINGS IN THE SOFTWARE.\n",
    "\n",
    "import numpy as np\n",
    "import matplotlib.pyplot as plt\n",
    "import random\n",
    "\n",
    "#Constants\n",
    "signal_size = 10"
   ]
  },
  {
   "attachments": {},
   "cell_type": "markdown",
   "metadata": {},
   "source": [
    "# Abstract\n",
    "The DTFT of any signal can be written as the summation of complex exponentials.\n",
    "- Given that the DTFT of an impulse is 1.\n",
    "- Given time shifting property of DTFT\n",
    "- Given linearity property of DTFT\n"
   ]
  },
  {
   "cell_type": "code",
   "execution_count": 660,
   "metadata": {},
   "outputs": [],
   "source": [
    "#Evaluate the fourier transform at each omega\n",
    "def yassinft(x, w):\n",
    "\n",
    "    #Execute time shifting property on all the coeffecients\n",
    "    matrix = np.array([x[k]*np.exp(-1j*w*k) for k in range(len(x))])\n",
    "    \n",
    "    #Dot product of the yassinft matrix with all ones matrix\n",
    "    return np.sum(matrix)"
   ]
  },
  {
   "attachments": {},
   "cell_type": "markdown",
   "metadata": {},
   "source": [
    "# Demo\n",
    "The FFT and YassinFT operations are executed on a signal of randomly generated integers.\n",
    "The outputs are plotted together."
   ]
  },
  {
   "cell_type": "code",
   "execution_count": 661,
   "metadata": {},
   "outputs": [
    {
     "data": {
      "image/png": "[encoded data removed]",
      "text/plain": [
       "<Figure size 432x288 with 1 Axes>"
      ]
     },
     "metadata": {
      "needs_background": "light"
     },
     "output_type": "display_data"
    },
    {
     "name": "stderr",
     "output_type": "stream",
     "text": [
      "/Users/yassinkortam/opt/anaconda3/lib/python3.8/site-packages/numpy/core/_asarray.py:83: ComplexWarning: Casting complex values to real discards the imaginary part\n",
      "  return array(a, dtype, copy=False, order=order)\n",
      "/Users/yassinkortam/opt/anaconda3/lib/python3.8/site-packages/numpy/core/_asarray.py:83: ComplexWarning: Casting complex values to real discards the imaginary part\n",
      "  return array(a, dtype, copy=False, order=order)\n"
     ]
    },
    {
     "data": {
      "image/png": "[encoded data removed]",
      "text/plain": [
       "<Figure size 432x288 with 1 Axes>"
      ]
     },
     "metadata": {
      "needs_background": "light"
     },
     "output_type": "display_data"
    }
   ],
   "source": [
    "#Example signal\n",
    "n = np.arange(0, signal_size, 1)\n",
    "x = np.array([random.randint(0,10) for x in n])\n",
    "\n",
    "#Evaluate the yassinft for each omega\n",
    "xft = np.arange(0, 2*np.pi, 2*np.pi/x.size)\n",
    "ft = np.array([yassinft(x, w) for w in xft])\n",
    "\n",
    "#normal fft\n",
    "ft2 = np.fft.fft(x)\n",
    "\n",
    "#Plot the signal, yassinft, and normal fft\n",
    "plt.figure()\n",
    "plt.title(\"Signal\")\n",
    "plt.stem(n, x, label=\"signal\")\n",
    "plt.legend()\n",
    "plt.show()\n",
    "\n",
    "plt.figure()\n",
    "plt.title(\"YassinFT vs FFT\")\n",
    "plt.plot(xft, ft, label=\"YassinFT\")\n",
    "plt.plot(np.arange(0, 2*np.pi, 2*np.pi/ft2.size),ft2, label=\"FFT\")\n",
    "plt.legend()\n",
    "plt.show()\n",
    "\n"
   ]
  }
 ],
 "metadata": {
  "kernelspec": {
   "display_name": "base",
   "language": "python",
   "name": "python3"
  },
  "language_info": {
   "codemirror_mode": {
    "name": "ipython",
    "version": 3
   },
   "file_extension": ".py",
   "mimetype": "text/x-python",
   "name": "python",
   "nbconvert_exporter": "python",
   "pygments_lexer": "ipython3",
   "version": "3.8.5"
  },
  "orig_nbformat": 4,
  "vscode": {
   "interpreter": {
    "hash": "f57b2c1b34c765d8cfe5ecd95bf8bfcc93e9770866ccda479f013bf042f6c787"
   }
  }
 },
 "nbformat": 4,
 "nbformat_minor": 2
}
